{
 "cells": [
  {
   "cell_type": "markdown",
   "metadata": {},
   "source": [
    "# Строки и байтовые строки \n",
    "https://www.coursera.org/learn/diving-in-python/lecture/tbPIr/bazovyie-tipy-stroki-i-baitovyie-stroki"
   ]
  },
  {
   "cell_type": "markdown",
   "metadata": {},
   "source": [
    "### Сырые строки\n",
    "r \" \" для того, чтобы написать сырую строку, все символы внутри нее будут считаться обычными символами\n",
    "\\ экранирование кавычек"
   ]
  },
  {
   "cell_type": "code",
   "execution_count": 13,
   "metadata": {},
   "outputs": [
    {
     "name": "stdout",
     "output_type": "stream",
     "text": [
      "для того, '@#\\/чтобы написать сырую строку, все символы внутри нее будут считаться обычными символами, надо поставить r\n"
     ]
    }
   ],
   "source": [
    "st = r\"для того, '@#\\/чтобы написать сырую строку, все символы внутри нее будут считаться обычными символами, надо поставить r\" \n",
    "print(st)"
   ]
  },
  {
   "cell_type": "code",
   "execution_count": 47,
   "metadata": {},
   "outputs": [
    {
     "name": "stdout",
     "output_type": "stream",
     "text": [
      "Курс \"Пайтон\" на \"Курсере\" \n"
     ]
    }
   ],
   "source": [
    "st2 = \"Курс \\\"Пайтон\\\" на \\\"Курсере\\\" \"\n",
    "print(st2)"
   ]
  },
  {
   "cell_type": "markdown",
   "metadata": {},
   "source": [
    "### Как разбить объявление длинной строки "
   ]
  },
  {
   "cell_type": "code",
   "execution_count": 24,
   "metadata": {
    "scrolled": true
   },
   "outputs": [
    {
     "name": "stdout",
     "output_type": "stream",
     "text": [
      "Как разбить объявление длинной строки для того, чтобы написать сырую строку, все символы внутри нее будут считаться обычными символами три строки сейчас склеятся в одну если привыкнуть, то так удобнее \n"
     ]
    }
   ],
   "source": [
    "st3 = 'Как разбить объявление длинной строки ' \\\n",
    "'для того, чтобы написать сырую строку, все символы внутри нее будут считаться обычными символами ' \\\n",
    "'три строки сейчас склеятся в одну ' \\\n",
    "'если привыкнуть, то так удобнее ' \\\n",
    "\n",
    "print(st3)"
   ]
  },
  {
   "cell_type": "code",
   "execution_count": 30,
   "metadata": {},
   "outputs": [
    {
     "name": "stdout",
     "output_type": "stream",
     "text": [
      "В первом случаи мы экранируем обратные слэши обратными слэшами. \n",
      "Это выглядит достаточно некрасиво. \n",
      "\n",
      "Также есть возможность записывать строки, состоящие из нескольких абзацов, какой-то текст возможно. \n",
      "\n",
      "Это делается с помощью тройных кавычек. \n",
      "\n"
     ]
    }
   ],
   "source": [
    "st4 = '''В первом случаи мы экранируем обратные слэши обратными слэшами. \n",
    "Это выглядит достаточно некрасиво. \n",
    "\n",
    "Также есть возможность записывать строки, состоящие из нескольких абзацов, какой-то текст возможно. \n",
    "\n",
    "Это делается с помощью тройных кавычек. \n",
    "'''\n",
    "\n",
    "print(st4)"
   ]
  },
  {
   "cell_type": "markdown",
   "metadata": {},
   "source": [
    "### Срезы строк \n",
    "[start : stop : step]"
   ]
  },
  {
   "cell_type": "code",
   "execution_count": 31,
   "metadata": {},
   "outputs": [],
   "source": [
    "st5 =  'Следующая особенность это срезы строк'"
   ]
  },
  {
   "cell_type": "code",
   "execution_count": 39,
   "metadata": {},
   "outputs": [
    {
     "name": "stdout",
     "output_type": "stream",
     "text": [
      "особенность это срезы строк\n",
      "особенность\n"
     ]
    }
   ],
   "source": [
    "print(st5[10:])\n",
    "print(st5[10:21])"
   ]
  },
  {
   "cell_type": "markdown",
   "metadata": {},
   "source": [
    "### Оператор in позволяет проверить наличие подстроки в строке"
   ]
  },
  {
   "cell_type": "code",
   "execution_count": 43,
   "metadata": {},
   "outputs": [
    {
     "name": "stdout",
     "output_type": "stream",
     "text": [
      "Коронавирус\n",
      "False\n"
     ]
    }
   ],
   "source": [
    "st5 = \"Коронавирус\"\n",
    "if 'Корона' in st5:\n",
    "    print(st5)\n",
    "print('Корона' in 'Беларусь')"
   ]
  },
  {
   "cell_type": "markdown",
   "metadata": {},
   "source": [
    "### Итерация по строке "
   ]
  },
  {
   "cell_type": "code",
   "execution_count": 46,
   "metadata": {},
   "outputs": [
    {
     "name": "stdout",
     "output_type": "stream",
     "text": [
      "Буква К\n",
      "Буква о\n",
      "Буква р\n",
      "Буква о\n",
      "Буква н\n",
      "Буква а\n"
     ]
    }
   ],
   "source": [
    "for i in \"Корона\": print('Буква', i)"
   ]
  },
  {
   "cell_type": "markdown",
   "metadata": {},
   "source": [
    "### Форматирование строк"
   ]
  },
  {
   "cell_type": "markdown",
   "metadata": {},
   "source": [
    "#### 1) первый способ - %s"
   ]
  },
  {
   "cell_type": "code",
   "execution_count": 51,
   "metadata": {},
   "outputs": [
    {
     "data": {
      "text/plain": [
       "'Следующая особенность это срезы строк'"
      ]
     },
     "execution_count": 51,
     "metadata": {},
     "output_type": "execute_result"
    }
   ],
   "source": [
    "st6 = '%s особенность это срезы %s'\n",
    "st6 % ('Следующая', 'строк')"
   ]
  },
  {
   "cell_type": "markdown",
   "metadata": {},
   "source": [
    "#### 2) второй способ - метод fotmat {} с пустыми скобками или с аргументами"
   ]
  },
  {
   "cell_type": "code",
   "execution_count": 57,
   "metadata": {},
   "outputs": [
    {
     "name": "stdout",
     "output_type": "stream",
     "text": [
      "Коронавирус есть в Беларуси и здравствует\n",
      "Коронавирус есть в Беларуси и вот так вот\n"
     ]
    }
   ],
   "source": [
    "print('Коронавирус {} в Беларуси {}'.format('есть', 'и здравствует'))\n",
    "print('Коронавирус {first} в Беларуси {second}'.format(first = 'есть', second = \"и вот так вот\"))"
   ]
  },
  {
   "cell_type": "markdown",
   "metadata": {},
   "source": [
    "#### 3) третий способ - В питоне 3.6. появился метод f-строк (наиболее оптимальный)"
   ]
  },
  {
   "cell_type": "code",
   "execution_count": 58,
   "metadata": {},
   "outputs": [
    {
     "name": "stdout",
     "output_type": "stream",
     "text": [
      "Covid-19 in Belarus\n"
     ]
    }
   ],
   "source": [
    "fir = 'Covid-19'\n",
    "sec = 'Belarus'\n",
    "print(f'{fir} in {sec}')"
   ]
  },
  {
   "cell_type": "markdown",
   "metadata": {},
   "source": [
    "### Байтовые строки"
   ]
  },
  {
   "cell_type": "markdown",
   "metadata": {},
   "source": [
    "#### Для того чтобы создать байтовую строку необходимо объявить b''"
   ]
  },
  {
   "cell_type": "code",
   "execution_count": 60,
   "metadata": {},
   "outputs": [
    {
     "name": "stdout",
     "output_type": "stream",
     "text": [
      "<class 'bytes'>\n"
     ]
    }
   ],
   "source": [
    "print(type(b'abracadabra'))"
   ]
  },
  {
   "cell_type": "code",
   "execution_count": null,
   "metadata": {},
   "outputs": [],
   "source": []
  }
 ],
 "metadata": {
  "kernelspec": {
   "display_name": "Python 3",
   "language": "python",
   "name": "python3"
  },
  "language_info": {
   "codemirror_mode": {
    "name": "ipython",
    "version": 3
   },
   "file_extension": ".py",
   "mimetype": "text/x-python",
   "name": "python",
   "nbconvert_exporter": "python",
   "pygments_lexer": "ipython3",
   "version": "3.7.6"
  }
 },
 "nbformat": 4,
 "nbformat_minor": 4
}
