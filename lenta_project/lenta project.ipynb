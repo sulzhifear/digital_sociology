{
 "cells": [
  {
   "cell_type": "code",
   "execution_count": 2,
   "metadata": {},
   "outputs": [],
   "source": [
    "import pandas as pd\n",
    "from pandas.tseries.offsets import DateOffset\n",
    "import numpy as np\n",
    "import matplotlib\n",
    "import matplotlib.pyplot as plt\n",
    "import seaborn as sns\n",
    "\n",
    "filename = 'D:\\data_set\\lenta-ru-news.csv'"
   ]
  },
  {
   "cell_type": "code",
   "execution_count": 3,
   "metadata": {},
   "outputs": [
    {
     "name": "stderr",
     "output_type": "stream",
     "text": [
      "C:\\ProgramData\\Anaconda3\\lib\\site-packages\\IPython\\core\\interactiveshell.py:3063: DtypeWarning: Columns (3) have mixed types.Specify dtype option on import or set low_memory=False.\n",
      "  interactivity=interactivity, compiler=compiler, result=result)\n"
     ]
    },
    {
     "data": {
      "text/html": [
       "<div>\n",
       "<style scoped>\n",
       "    .dataframe tbody tr th:only-of-type {\n",
       "        vertical-align: middle;\n",
       "    }\n",
       "\n",
       "    .dataframe tbody tr th {\n",
       "        vertical-align: top;\n",
       "    }\n",
       "\n",
       "    .dataframe thead th {\n",
       "        text-align: right;\n",
       "    }\n",
       "</style>\n",
       "<table border=\"1\" class=\"dataframe\">\n",
       "  <thead>\n",
       "    <tr style=\"text-align: right;\">\n",
       "      <th></th>\n",
       "      <th>url</th>\n",
       "      <th>title</th>\n",
       "      <th>text</th>\n",
       "      <th>topic</th>\n",
       "      <th>tags</th>\n",
       "      <th>date</th>\n",
       "    </tr>\n",
       "  </thead>\n",
       "  <tbody>\n",
       "    <tr>\n",
       "      <th>0</th>\n",
       "      <td>https://lenta.ru/news/1914/09/16/hungarnn/</td>\n",
       "      <td>1914. Русские войска вступили в пределы Венгрии</td>\n",
       "      <td>Бои у Сопоцкина и Друскеник закончились отступ...</td>\n",
       "      <td>Библиотека</td>\n",
       "      <td>Первая мировая</td>\n",
       "      <td>1914/09/16</td>\n",
       "    </tr>\n",
       "    <tr>\n",
       "      <th>1</th>\n",
       "      <td>https://lenta.ru/news/1914/09/16/lermontov/</td>\n",
       "      <td>1914. Празднование столетия М.Ю. Лермонтова от...</td>\n",
       "      <td>Министерство народного просвещения, в виду про...</td>\n",
       "      <td>Библиотека</td>\n",
       "      <td>Первая мировая</td>\n",
       "      <td>1914/09/16</td>\n",
       "    </tr>\n",
       "    <tr>\n",
       "      <th>2</th>\n",
       "      <td>https://lenta.ru/news/1914/09/17/nesteroff/</td>\n",
       "      <td>1914. Das ist Nesteroff!</td>\n",
       "      <td>Штабс-капитан П. Н. Нестеров на днях, увидев в...</td>\n",
       "      <td>Библиотека</td>\n",
       "      <td>Первая мировая</td>\n",
       "      <td>1914/09/17</td>\n",
       "    </tr>\n",
       "    <tr>\n",
       "      <th>3</th>\n",
       "      <td>https://lenta.ru/news/1914/09/17/bulldogn/</td>\n",
       "      <td>1914. Бульдог-гонец под Льежем</td>\n",
       "      <td>Фотограф-корреспондент Daily Mirror рассказыва...</td>\n",
       "      <td>Библиотека</td>\n",
       "      <td>Первая мировая</td>\n",
       "      <td>1914/09/17</td>\n",
       "    </tr>\n",
       "    <tr>\n",
       "      <th>4</th>\n",
       "      <td>https://lenta.ru/news/1914/09/18/zver/</td>\n",
       "      <td>1914. Под Люблином пойман швабский зверь</td>\n",
       "      <td>Лица, приехавшие в Варшаву из Люблина, передаю...</td>\n",
       "      <td>Библиотека</td>\n",
       "      <td>Первая мировая</td>\n",
       "      <td>1914/09/18</td>\n",
       "    </tr>\n",
       "  </tbody>\n",
       "</table>\n",
       "</div>"
      ],
      "text/plain": [
       "                                           url  \\\n",
       "0   https://lenta.ru/news/1914/09/16/hungarnn/   \n",
       "1  https://lenta.ru/news/1914/09/16/lermontov/   \n",
       "2  https://lenta.ru/news/1914/09/17/nesteroff/   \n",
       "3   https://lenta.ru/news/1914/09/17/bulldogn/   \n",
       "4       https://lenta.ru/news/1914/09/18/zver/   \n",
       "\n",
       "                                               title  \\\n",
       "0  1914. Русские войска вступили в пределы Венгрии     \n",
       "1  1914. Празднование столетия М.Ю. Лермонтова от...   \n",
       "2                           1914. Das ist Nesteroff!   \n",
       "3                    1914. Бульдог-гонец под Льежем    \n",
       "4           1914. Под Люблином пойман швабский зверь   \n",
       "\n",
       "                                                text       topic  \\\n",
       "0  Бои у Сопоцкина и Друскеник закончились отступ...  Библиотека   \n",
       "1  Министерство народного просвещения, в виду про...  Библиотека   \n",
       "2  Штабс-капитан П. Н. Нестеров на днях, увидев в...  Библиотека   \n",
       "3  Фотограф-корреспондент Daily Mirror рассказыва...  Библиотека   \n",
       "4  Лица, приехавшие в Варшаву из Люблина, передаю...  Библиотека   \n",
       "\n",
       "             tags        date  \n",
       "0  Первая мировая  1914/09/16  \n",
       "1  Первая мировая  1914/09/16  \n",
       "2  Первая мировая  1914/09/17  \n",
       "3  Первая мировая  1914/09/17  \n",
       "4  Первая мировая  1914/09/18  "
      ]
     },
     "execution_count": 3,
     "metadata": {},
     "output_type": "execute_result"
    }
   ],
   "source": [
    "df = pd.read_csv(filename) \n",
    "df.head() "
   ]
  },
  {
   "cell_type": "markdown",
   "metadata": {},
   "source": [
    "# EDA"
   ]
  },
  {
   "cell_type": "markdown",
   "metadata": {},
   "source": [
    "## Dataset general info"
   ]
  },
  {
   "cell_type": "code",
   "execution_count": 4,
   "metadata": {},
   "outputs": [
    {
     "name": "stdout",
     "output_type": "stream",
     "text": [
      "<class 'pandas.core.frame.DataFrame'>\n",
      "RangeIndex: 800975 entries, 0 to 800974\n",
      "Data columns (total 6 columns):\n",
      " #   Column  Non-Null Count   Dtype \n",
      "---  ------  --------------   ----- \n",
      " 0   url     800975 non-null  object\n",
      " 1   title   800975 non-null  object\n",
      " 2   text    800970 non-null  object\n",
      " 3   topic   738973 non-null  object\n",
      " 4   tags    773756 non-null  object\n",
      " 5   date    800975 non-null  object\n",
      "dtypes: object(6)\n",
      "memory usage: 36.7+ MB\n"
     ]
    }
   ],
   "source": [
    "df.info()"
   ]
  },
  {
   "cell_type": "markdown",
   "metadata": {},
   "source": [
    "data is asymmetrically distributed, there is some missing data"
   ]
  },
  {
   "cell_type": "code",
   "execution_count": 5,
   "metadata": {},
   "outputs": [
    {
     "data": {
      "text/html": [
       "<div>\n",
       "<style scoped>\n",
       "    .dataframe tbody tr th:only-of-type {\n",
       "        vertical-align: middle;\n",
       "    }\n",
       "\n",
       "    .dataframe tbody tr th {\n",
       "        vertical-align: top;\n",
       "    }\n",
       "\n",
       "    .dataframe thead th {\n",
       "        text-align: right;\n",
       "    }\n",
       "</style>\n",
       "<table border=\"1\" class=\"dataframe\">\n",
       "  <thead>\n",
       "    <tr style=\"text-align: right;\">\n",
       "      <th></th>\n",
       "      <th>url</th>\n",
       "      <th>title</th>\n",
       "      <th>text</th>\n",
       "      <th>topic</th>\n",
       "      <th>tags</th>\n",
       "      <th>date</th>\n",
       "    </tr>\n",
       "  </thead>\n",
       "  <tbody>\n",
       "    <tr>\n",
       "      <th>count</th>\n",
       "      <td>800975</td>\n",
       "      <td>800975</td>\n",
       "      <td>800970</td>\n",
       "      <td>738973</td>\n",
       "      <td>773756</td>\n",
       "      <td>800975</td>\n",
       "    </tr>\n",
       "    <tr>\n",
       "      <th>unique</th>\n",
       "      <td>800964</td>\n",
       "      <td>797832</td>\n",
       "      <td>800037</td>\n",
       "      <td>23</td>\n",
       "      <td>94</td>\n",
       "      <td>7393</td>\n",
       "    </tr>\n",
       "    <tr>\n",
       "      <th>top</th>\n",
       "      <td>https://lenta.ru/news/2001/10/12/anthrax/</td>\n",
       "      <td>В Москве объявлено штормовое предупреждение</td>\n",
       "      <td>РИА \"Новости\"</td>\n",
       "      <td>Россия</td>\n",
       "      <td>Все</td>\n",
       "      <td>2019/12/05</td>\n",
       "    </tr>\n",
       "    <tr>\n",
       "      <th>freq</th>\n",
       "      <td>2</td>\n",
       "      <td>21</td>\n",
       "      <td>291</td>\n",
       "      <td>160445</td>\n",
       "      <td>453762</td>\n",
       "      <td>284</td>\n",
       "    </tr>\n",
       "  </tbody>\n",
       "</table>\n",
       "</div>"
      ],
      "text/plain": [
       "                                              url  \\\n",
       "count                                      800975   \n",
       "unique                                     800964   \n",
       "top     https://lenta.ru/news/2001/10/12/anthrax/   \n",
       "freq                                            2   \n",
       "\n",
       "                                              title           text   topic  \\\n",
       "count                                        800975         800970  738973   \n",
       "unique                                       797832         800037      23   \n",
       "top     В Москве объявлено штормовое предупреждение  РИА \"Новости\"  Россия   \n",
       "freq                                             21            291  160445   \n",
       "\n",
       "          tags        date  \n",
       "count   773756      800975  \n",
       "unique      94        7393  \n",
       "top        Все  2019/12/05  \n",
       "freq    453762         284  "
      ]
     },
     "execution_count": 5,
     "metadata": {},
     "output_type": "execute_result"
    }
   ],
   "source": [
    "df.describe(include=[np.object])"
   ]
  },
  {
   "cell_type": "markdown",
   "metadata": {},
   "source": [
    "Some dublicates in text and title"
   ]
  },
  {
   "cell_type": "code",
   "execution_count": 6,
   "metadata": {},
   "outputs": [
    {
     "data": {
      "text/plain": [
       "url      False\n",
       "title    False\n",
       "text      True\n",
       "topic     True\n",
       "tags      True\n",
       "date     False\n",
       "dtype: bool"
      ]
     },
     "execution_count": 6,
     "metadata": {},
     "output_type": "execute_result"
    }
   ],
   "source": [
    "df.isnull().any()"
   ]
  },
  {
   "cell_type": "markdown",
   "metadata": {},
   "source": [
    "\n",
    "missing values in text, topic and tags"
   ]
  },
  {
   "cell_type": "markdown",
   "metadata": {},
   "source": [
    "#### date to Datetime format"
   ]
  },
  {
   "cell_type": "code",
   "execution_count": 7,
   "metadata": {},
   "outputs": [
    {
     "data": {
      "text/plain": [
       "0        1914-09-16\n",
       "1        1914-09-16\n",
       "2        1914-09-17\n",
       "3        1914-09-17\n",
       "4        1914-09-18\n",
       "            ...    \n",
       "800970   2019-12-14\n",
       "800971   2019-12-14\n",
       "800972   2019-12-14\n",
       "800973   2019-12-14\n",
       "800974   2019-12-14\n",
       "Name: date, Length: 800975, dtype: datetime64[ns]"
      ]
     },
     "execution_count": 7,
     "metadata": {},
     "output_type": "execute_result"
    }
   ],
   "source": [
    "df['date'] = pd.to_datetime(df['date'])\n",
    "df['date']"
   ]
  },
  {
   "cell_type": "markdown",
   "metadata": {},
   "source": [
    "#### publications dynamic per mounth"
   ]
  },
  {
   "cell_type": "code",
   "execution_count": 8,
   "metadata": {},
   "outputs": [],
   "source": [
    "news_per_year = df.groupby(df['date'].dt.year).size()\n"
   ]
  },
  {
   "cell_type": "code",
   "execution_count": 9,
   "metadata": {},
   "outputs": [
    {
     "data": {
      "text/plain": [
       "Text(0, 0.5, 'Number of articles')"
      ]
     },
     "execution_count": 9,
     "metadata": {},
     "output_type": "execute_result"
    },
    {
     "data": {
      "image/png": "[encoded data removed]",
      "text/plain": [
       "<Figure size 720x432 with 1 Axes>"
      ]
     },
     "metadata": {
      "needs_background": "light"
     },
     "output_type": "display_data"
    }
   ],
   "source": [
    "plt.figure(figsize=(10, 6))\n",
    "fig = news_per_year.plot(kind='bar')\n",
    "fig.set_title('Total')\n",
    "fig.set_xlabel('Year')\n",
    "fig.set_ylabel('Number of articles')"
   ]
  },
  {
   "cell_type": "code",
   "execution_count": 10,
   "metadata": {},
   "outputs": [
    {
     "data": {
      "image/png": "[encoded data removed]",
      "text/plain": [
       "<Figure size 432x288 with 1 Axes>"
      ]
     },
     "metadata": {
      "needs_background": "light"
     },
     "output_type": "display_data"
    }
   ],
   "source": [
    "sns_plot = sns.distplot(news_per_year)\n",
    "fig = sns_plot.get_figure()"
   ]
  },
  {
   "cell_type": "markdown",
   "metadata": {},
   "source": [
    "#### 1st anomaly: 1914 year of publication"
   ]
  },
  {
   "cell_type": "markdown",
   "metadata": {},
   "source": [
    "#### sampling all the 1914 news"
   ]
  },
  {
   "cell_type": "code",
   "execution_count": 11,
   "metadata": {},
   "outputs": [
    {
     "data": {
      "text/html": [
       "<div>\n",
       "<style scoped>\n",
       "    .dataframe tbody tr th:only-of-type {\n",
       "        vertical-align: middle;\n",
       "    }\n",
       "\n",
       "    .dataframe tbody tr th {\n",
       "        vertical-align: top;\n",
       "    }\n",
       "\n",
       "    .dataframe thead th {\n",
       "        text-align: right;\n",
       "    }\n",
       "</style>\n",
       "<table border=\"1\" class=\"dataframe\">\n",
       "  <thead>\n",
       "    <tr style=\"text-align: right;\">\n",
       "      <th></th>\n",
       "      <th>url</th>\n",
       "      <th>title</th>\n",
       "      <th>text</th>\n",
       "      <th>topic</th>\n",
       "      <th>tags</th>\n",
       "      <th>date</th>\n",
       "    </tr>\n",
       "  </thead>\n",
       "  <tbody>\n",
       "    <tr>\n",
       "      <th>0</th>\n",
       "      <td>https://lenta.ru/news/1914/09/16/hungarnn/</td>\n",
       "      <td>1914. Русские войска вступили в пределы Венгрии</td>\n",
       "      <td>Бои у Сопоцкина и Друскеник закончились отступ...</td>\n",
       "      <td>Библиотека</td>\n",
       "      <td>Первая мировая</td>\n",
       "      <td>1914-09-16</td>\n",
       "    </tr>\n",
       "    <tr>\n",
       "      <th>1</th>\n",
       "      <td>https://lenta.ru/news/1914/09/16/lermontov/</td>\n",
       "      <td>1914. Празднование столетия М.Ю. Лермонтова от...</td>\n",
       "      <td>Министерство народного просвещения, в виду про...</td>\n",
       "      <td>Библиотека</td>\n",
       "      <td>Первая мировая</td>\n",
       "      <td>1914-09-16</td>\n",
       "    </tr>\n",
       "    <tr>\n",
       "      <th>2</th>\n",
       "      <td>https://lenta.ru/news/1914/09/17/nesteroff/</td>\n",
       "      <td>1914. Das ist Nesteroff!</td>\n",
       "      <td>Штабс-капитан П. Н. Нестеров на днях, увидев в...</td>\n",
       "      <td>Библиотека</td>\n",
       "      <td>Первая мировая</td>\n",
       "      <td>1914-09-17</td>\n",
       "    </tr>\n",
       "    <tr>\n",
       "      <th>3</th>\n",
       "      <td>https://lenta.ru/news/1914/09/17/bulldogn/</td>\n",
       "      <td>1914. Бульдог-гонец под Льежем</td>\n",
       "      <td>Фотограф-корреспондент Daily Mirror рассказыва...</td>\n",
       "      <td>Библиотека</td>\n",
       "      <td>Первая мировая</td>\n",
       "      <td>1914-09-17</td>\n",
       "    </tr>\n",
       "    <tr>\n",
       "      <th>4</th>\n",
       "      <td>https://lenta.ru/news/1914/09/18/zver/</td>\n",
       "      <td>1914. Под Люблином пойман швабский зверь</td>\n",
       "      <td>Лица, приехавшие в Варшаву из Люблина, передаю...</td>\n",
       "      <td>Библиотека</td>\n",
       "      <td>Первая мировая</td>\n",
       "      <td>1914-09-18</td>\n",
       "    </tr>\n",
       "  </tbody>\n",
       "</table>\n",
       "</div>"
      ],
      "text/plain": [
       "                                           url  \\\n",
       "0   https://lenta.ru/news/1914/09/16/hungarnn/   \n",
       "1  https://lenta.ru/news/1914/09/16/lermontov/   \n",
       "2  https://lenta.ru/news/1914/09/17/nesteroff/   \n",
       "3   https://lenta.ru/news/1914/09/17/bulldogn/   \n",
       "4       https://lenta.ru/news/1914/09/18/zver/   \n",
       "\n",
       "                                               title  \\\n",
       "0  1914. Русские войска вступили в пределы Венгрии     \n",
       "1  1914. Празднование столетия М.Ю. Лермонтова от...   \n",
       "2                           1914. Das ist Nesteroff!   \n",
       "3                    1914. Бульдог-гонец под Льежем    \n",
       "4           1914. Под Люблином пойман швабский зверь   \n",
       "\n",
       "                                                text       topic  \\\n",
       "0  Бои у Сопоцкина и Друскеник закончились отступ...  Библиотека   \n",
       "1  Министерство народного просвещения, в виду про...  Библиотека   \n",
       "2  Штабс-капитан П. Н. Нестеров на днях, увидев в...  Библиотека   \n",
       "3  Фотограф-корреспондент Daily Mirror рассказыва...  Библиотека   \n",
       "4  Лица, приехавшие в Варшаву из Люблина, передаю...  Библиотека   \n",
       "\n",
       "             tags       date  \n",
       "0  Первая мировая 1914-09-16  \n",
       "1  Первая мировая 1914-09-16  \n",
       "2  Первая мировая 1914-09-17  \n",
       "3  Первая мировая 1914-09-17  \n",
       "4  Первая мировая 1914-09-18  "
      ]
     },
     "execution_count": 11,
     "metadata": {},
     "output_type": "execute_result"
    }
   ],
   "source": [
    "df.loc[df['date'].dt.year == 1914]"
   ]
  },
  {
   "cell_type": "markdown",
   "metadata": {},
   "source": [
    "#### https://lenta.ru/news/1914/09/16/hungarnn/ Date of publication - 18:20, 16 сентября 2014\n",
    "#### https://lenta.ru/news/1914/09/17/nesteroff/ Date of publication - 18:35, 17 сентября 2014"
   ]
  },
  {
   "cell_type": "code",
   "execution_count": 12,
   "metadata": {},
   "outputs": [
    {
     "name": "stderr",
     "output_type": "stream",
     "text": [
      "C:\\ProgramData\\Anaconda3\\lib\\site-packages\\pandas\\core\\arrays\\datetimes.py:692: PerformanceWarning: Non-vectorized DateOffset being applied to Series or DatetimeIndex\n",
      "  PerformanceWarning,\n",
      "C:\\ProgramData\\Anaconda3\\lib\\site-packages\\ipykernel_launcher.py:1: SettingWithCopyWarning: \n",
      "A value is trying to be set on a copy of a slice from a DataFrame\n",
      "\n",
      "See the caveats in the documentation: https://pandas.pydata.org/pandas-docs/stable/user_guide/indexing.html#returning-a-view-versus-a-copy\n",
      "  \"\"\"Entry point for launching an IPython kernel.\n"
     ]
    }
   ],
   "source": [
    "df['date'][0:5] = df['date'][:5] + pd.offsets.DateOffset(year=2014)"
   ]
  },
  {
   "cell_type": "code",
   "execution_count": 13,
   "metadata": {},
   "outputs": [
    {
     "data": {
      "text/plain": [
       "0   2014-09-16\n",
       "1   2014-09-16\n",
       "2   2014-09-17\n",
       "3   2014-09-17\n",
       "4   2014-09-18\n",
       "Name: date, dtype: datetime64[ns]"
      ]
     },
     "execution_count": 13,
     "metadata": {},
     "output_type": "execute_result"
    }
   ],
   "source": [
    "df['date'][0:5]"
   ]
  },
  {
   "cell_type": "code",
   "execution_count": 14,
   "metadata": {},
   "outputs": [
    {
     "data": {
      "text/plain": [
       "2019-12-05    284\n",
       "2019-12-10    281\n",
       "2016-12-01    278\n",
       "2019-10-09    276\n",
       "2016-11-25    275\n",
       "             ... \n",
       "2000-02-27      1\n",
       "1999-10-31      1\n",
       "1999-11-20      1\n",
       "1999-10-03      1\n",
       "1999-12-26      1\n",
       "Name: date, Length: 7390, dtype: int64"
      ]
     },
     "execution_count": 14,
     "metadata": {},
     "output_type": "execute_result"
    }
   ],
   "source": [
    "df['date'].value_counts()"
   ]
  },
  {
   "cell_type": "markdown",
   "metadata": {},
   "source": [
    "#### 2nd anomaly: empty data"
   ]
  },
  {
   "cell_type": "code",
   "execution_count": 15,
   "metadata": {},
   "outputs": [
    {
     "data": {
      "text/plain": [
       "url      0.000000\n",
       "title    0.000000\n",
       "text     0.000624\n",
       "topic    7.740816\n",
       "tags     3.398233\n",
       "date     0.000000\n",
       "dtype: float64"
      ]
     },
     "execution_count": 15,
     "metadata": {},
     "output_type": "execute_result"
    }
   ],
   "source": [
    "df.isna().sum() / df.shape[0] * 100"
   ]
  },
  {
   "cell_type": "code",
   "execution_count": 16,
   "metadata": {},
   "outputs": [],
   "source": [
    "df = df[df['topic'].notna()]\n",
    "df = df[df['text'].notna()]\n",
    "df = df[df['tags'].notna()]"
   ]
  },
  {
   "cell_type": "code",
   "execution_count": 17,
   "metadata": {},
   "outputs": [
    {
     "data": {
      "text/plain": [
       "url      0.0\n",
       "title    0.0\n",
       "text     0.0\n",
       "topic    0.0\n",
       "tags     0.0\n",
       "date     0.0\n",
       "dtype: float64"
      ]
     },
     "execution_count": 17,
     "metadata": {},
     "output_type": "execute_result"
    }
   ],
   "source": [
    "df.isna().sum() / df.shape[0] * 100"
   ]
  },
  {
   "cell_type": "markdown",
   "metadata": {},
   "source": [
    "## let's take a look at the topics distribution"
   ]
  },
  {
   "cell_type": "code",
   "execution_count": 18,
   "metadata": {},
   "outputs": [],
   "source": [
    "import numpy as np\n",
    "df = df.set_index(np.arange(len(df.index)))"
   ]
  },
  {
   "cell_type": "code",
   "execution_count": 19,
   "metadata": {},
   "outputs": [
    {
     "data": {
      "text/plain": [
       "Text(0, 0.5, 'Number of articles')"
      ]
     },
     "execution_count": 19,
     "metadata": {},
     "output_type": "execute_result"
    },
    {
     "data": {
      "image/png": "[encoded data removed]",
      "text/plain": [
       "<Figure size 720x432 with 1 Axes>"
      ]
     },
     "metadata": {
      "needs_background": "light"
     },
     "output_type": "display_data"
    }
   ],
   "source": [
    "news_per_topic = df.groupby(df['topic']).size().sort_values(ascending = False)\n",
    "\n",
    "plt.figure(figsize=(10, 6))\n",
    "fig = news_per_topic.plot(kind='bar')\n",
    "fig.set_title('Total')\n",
    "fig.set_xlabel('Topic')\n",
    "fig.set_ylabel('Number of articles')"
   ]
  },
  {
   "cell_type": "markdown",
   "metadata": {},
   "source": [
    "1) There are \"empty\" topics that are rarely presented. \n",
    "\n",
    "2) It can be hypothesized that the publication is focused on covering politics, economics and public life in Russia and abroad.\n",
    "\n",
    "3) The second hypothesis is that the daily life of citizens is less covered"
   ]
  },
  {
   "cell_type": "code",
   "execution_count": 20,
   "metadata": {},
   "outputs": [
    {
     "data": {
      "text/plain": [
       "Text(0, 0.5, 'Number of articles')"
      ]
     },
     "execution_count": 20,
     "metadata": {},
     "output_type": "execute_result"
    },
    {
     "data": {
      "image/png": "[encoded data removed]",
      "text/plain": [
       "<Figure size 1440x720 with 1 Axes>"
      ]
     },
     "metadata": {
      "needs_background": "light"
     },
     "output_type": "display_data"
    }
   ],
   "source": [
    "tags_per_topic = df.groupby(df['tags']).size().sort_values(ascending = False)\n",
    "\n",
    "plt.figure(figsize=(20, 10))\n",
    "fig = tags_per_topic.plot(kind='bar')\n",
    "fig.set_title('Total')\n",
    "fig.set_xlabel('Tags')\n",
    "fig.set_ylabel('Number of articles')"
   ]
  },
  {
   "cell_type": "code",
   "execution_count": 21,
   "metadata": {},
   "outputs": [
    {
     "data": {
      "text/plain": [
       "tags\n",
       "Все             453581\n",
       "Политика         33220\n",
       "Общество         27560\n",
       "Украина          17934\n",
       "Происшествия     15972\n",
       "Футбол           13128\n",
       "Госэкономика     12869\n",
       "Кино              9109\n",
       "Бизнес            8224\n",
       "Интернет          7945\n",
       "dtype: int64"
      ]
     },
     "execution_count": 21,
     "metadata": {},
     "output_type": "execute_result"
    }
   ],
   "source": [
    "df.groupby(df['tags']).size().sort_values(ascending = False).nlargest(10)"
   ]
  },
  {
   "cell_type": "markdown",
   "metadata": {},
   "source": [
    "We see the distribution by tags gives more information. \n",
    "On the one hand, a lot of news is devoted to Ukraine, not only Russia or other countries. \n",
    "On the other hand, we see the presence of only the first ten tags, which account for most of the news."
   ]
  },
  {
   "cell_type": "markdown",
   "metadata": {},
   "source": [
    "\n",
    "## Let's see what we can learn about article size\n"
   ]
  },
  {
   "cell_type": "code",
   "execution_count": 22,
   "metadata": {},
   "outputs": [],
   "source": [
    "df['length']=df['text'].str.len()"
   ]
  },
  {
   "cell_type": "code",
   "execution_count": 23,
   "metadata": {},
   "outputs": [
    {
     "data": {
      "text/html": [
       "<div>\n",
       "<style scoped>\n",
       "    .dataframe tbody tr th:only-of-type {\n",
       "        vertical-align: middle;\n",
       "    }\n",
       "\n",
       "    .dataframe tbody tr th {\n",
       "        vertical-align: top;\n",
       "    }\n",
       "\n",
       "    .dataframe thead th {\n",
       "        text-align: right;\n",
       "    }\n",
       "</style>\n",
       "<table border=\"1\" class=\"dataframe\">\n",
       "  <thead>\n",
       "    <tr style=\"text-align: right;\">\n",
       "      <th></th>\n",
       "      <th>length</th>\n",
       "    </tr>\n",
       "    <tr>\n",
       "      <th>tags</th>\n",
       "      <th></th>\n",
       "    </tr>\n",
       "  </thead>\n",
       "  <tbody>\n",
       "    <tr>\n",
       "      <th>Деловой климат</th>\n",
       "      <td>1921.594127</td>\n",
       "    </tr>\n",
       "    <tr>\n",
       "      <th>Финансы компаний</th>\n",
       "      <td>1834.658065</td>\n",
       "    </tr>\n",
       "    <tr>\n",
       "      <th>Госрегулирование</th>\n",
       "      <td>1783.121951</td>\n",
       "    </tr>\n",
       "    <tr>\n",
       "      <th>Производители</th>\n",
       "      <td>1672.000000</td>\n",
       "    </tr>\n",
       "    <tr>\n",
       "      <th>Наука</th>\n",
       "      <td>1670.962724</td>\n",
       "    </tr>\n",
       "    <tr>\n",
       "      <th>...</th>\n",
       "      <td>...</td>\n",
       "    </tr>\n",
       "    <tr>\n",
       "      <th>Футбол</th>\n",
       "      <td>1006.991088</td>\n",
       "    </tr>\n",
       "    <tr>\n",
       "      <th>Авто</th>\n",
       "      <td>864.531915</td>\n",
       "    </tr>\n",
       "    <tr>\n",
       "      <th>Хоккей</th>\n",
       "      <td>852.577049</td>\n",
       "    </tr>\n",
       "    <tr>\n",
       "      <th>Вирусные ролики</th>\n",
       "      <td>805.086498</td>\n",
       "    </tr>\n",
       "    <tr>\n",
       "      <th>Инновации</th>\n",
       "      <td>697.000000</td>\n",
       "    </tr>\n",
       "  </tbody>\n",
       "</table>\n",
       "<p>88 rows × 1 columns</p>\n",
       "</div>"
      ],
      "text/plain": [
       "                       length\n",
       "tags                         \n",
       "Деловой климат    1921.594127\n",
       "Финансы компаний  1834.658065\n",
       "Госрегулирование  1783.121951\n",
       "Производители     1672.000000\n",
       "Наука             1670.962724\n",
       "...                       ...\n",
       "Футбол            1006.991088\n",
       "Авто               864.531915\n",
       "Хоккей             852.577049\n",
       "Вирусные ролики    805.086498\n",
       "Инновации          697.000000\n",
       "\n",
       "[88 rows x 1 columns]"
      ]
     },
     "execution_count": 23,
     "metadata": {},
     "output_type": "execute_result"
    }
   ],
   "source": [
    "df.groupby(['tags'])[['length']].mean().sort_values(['length'], ascending = False)"
   ]
  },
  {
   "cell_type": "code",
   "execution_count": 24,
   "metadata": {},
   "outputs": [
    {
     "data": {
      "text/plain": [
       "Text(0, 0.5, 'length_mean')"
      ]
     },
     "execution_count": 24,
     "metadata": {},
     "output_type": "execute_result"
    },
    {
     "data": {
      "text/plain": [
       "<Figure size 720x432 with 0 Axes>"
      ]
     },
     "metadata": {},
     "output_type": "display_data"
    },
    {
     "data": {
      "image/png": "[encoded data removed]",
      "text/plain": [
       "<Figure size 432x288 with 1 Axes>"
      ]
     },
     "metadata": {
      "needs_background": "light"
     },
     "output_type": "display_data"
    }
   ],
   "source": [
    "topic_length_mean = df.groupby(['topic'])[['length']].mean().sort_values(['length'], ascending = False)\n",
    "\n",
    "plt.figure(figsize=(10, 6))\n",
    "fig = topic_length_mean.plot(kind='bar')\n",
    "fig.set_title('Total')\n",
    "fig.set_xlabel('topic')\n",
    "fig.set_ylabel('length_mean')"
   ]
  },
  {
   "cell_type": "code",
   "execution_count": null,
   "metadata": {},
   "outputs": [],
   "source": []
  },
  {
   "cell_type": "code",
   "execution_count": 25,
   "metadata": {},
   "outputs": [
    {
     "data": {
      "text/html": [
       "<div>\n",
       "<style scoped>\n",
       "    .dataframe tbody tr th:only-of-type {\n",
       "        vertical-align: middle;\n",
       "    }\n",
       "\n",
       "    .dataframe tbody tr th {\n",
       "        vertical-align: top;\n",
       "    }\n",
       "\n",
       "    .dataframe thead tr th {\n",
       "        text-align: left;\n",
       "    }\n",
       "\n",
       "    .dataframe thead tr:last-of-type th {\n",
       "        text-align: right;\n",
       "    }\n",
       "</style>\n",
       "<table border=\"1\" class=\"dataframe\">\n",
       "  <thead>\n",
       "    <tr>\n",
       "      <th></th>\n",
       "      <th colspan=\"6\" halign=\"left\">length</th>\n",
       "    </tr>\n",
       "    <tr>\n",
       "      <th></th>\n",
       "      <th>sum</th>\n",
       "      <th>max</th>\n",
       "      <th>min</th>\n",
       "      <th>mean</th>\n",
       "      <th>median</th>\n",
       "      <th>count</th>\n",
       "    </tr>\n",
       "    <tr>\n",
       "      <th>topic</th>\n",
       "      <th></th>\n",
       "      <th></th>\n",
       "      <th></th>\n",
       "      <th></th>\n",
       "      <th></th>\n",
       "      <th></th>\n",
       "    </tr>\n",
       "  </thead>\n",
       "  <tbody>\n",
       "    <tr>\n",
       "      <th>Россия</th>\n",
       "      <td>204284398</td>\n",
       "      <td>55387</td>\n",
       "      <td>3</td>\n",
       "      <td>1317.929847</td>\n",
       "      <td>1242.0</td>\n",
       "      <td>155004</td>\n",
       "    </tr>\n",
       "    <tr>\n",
       "      <th>Бывший СССР</th>\n",
       "      <td>79379206</td>\n",
       "      <td>20090</td>\n",
       "      <td>3</td>\n",
       "      <td>1545.244423</td>\n",
       "      <td>1433.5</td>\n",
       "      <td>51370</td>\n",
       "    </tr>\n",
       "    <tr>\n",
       "      <th>Дом</th>\n",
       "      <td>31845476</td>\n",
       "      <td>14795</td>\n",
       "      <td>181</td>\n",
       "      <td>1465.237692</td>\n",
       "      <td>1372.0</td>\n",
       "      <td>21734</td>\n",
       "    </tr>\n",
       "    <tr>\n",
       "      <th>Мир</th>\n",
       "      <td>177459011</td>\n",
       "      <td>13520</td>\n",
       "      <td>3</td>\n",
       "      <td>1298.924103</td>\n",
       "      <td>1242.0</td>\n",
       "      <td>136620</td>\n",
       "    </tr>\n",
       "    <tr>\n",
       "      <th>Интернет и СМИ</th>\n",
       "      <td>61088230</td>\n",
       "      <td>12352</td>\n",
       "      <td>3</td>\n",
       "      <td>1375.210599</td>\n",
       "      <td>1290.0</td>\n",
       "      <td>44421</td>\n",
       "    </tr>\n",
       "    <tr>\n",
       "      <th>Экономика</th>\n",
       "      <td>109607718</td>\n",
       "      <td>9282</td>\n",
       "      <td>3</td>\n",
       "      <td>1434.224226</td>\n",
       "      <td>1368.0</td>\n",
       "      <td>76423</td>\n",
       "    </tr>\n",
       "    <tr>\n",
       "      <th>Спорт</th>\n",
       "      <td>64696755</td>\n",
       "      <td>8494</td>\n",
       "      <td>10</td>\n",
       "      <td>1117.503627</td>\n",
       "      <td>1049.0</td>\n",
       "      <td>57894</td>\n",
       "    </tr>\n",
       "    <tr>\n",
       "      <th>Культура</th>\n",
       "      <td>65684449</td>\n",
       "      <td>7739</td>\n",
       "      <td>3</td>\n",
       "      <td>1227.058640</td>\n",
       "      <td>1154.0</td>\n",
       "      <td>53530</td>\n",
       "    </tr>\n",
       "    <tr>\n",
       "      <th>Бизнес</th>\n",
       "      <td>12678739</td>\n",
       "      <td>7519</td>\n",
       "      <td>247</td>\n",
       "      <td>1719.151051</td>\n",
       "      <td>1632.0</td>\n",
       "      <td>7375</td>\n",
       "    </tr>\n",
       "    <tr>\n",
       "      <th>Наука и техника</th>\n",
       "      <td>77423049</td>\n",
       "      <td>7084</td>\n",
       "      <td>3</td>\n",
       "      <td>1457.073340</td>\n",
       "      <td>1393.0</td>\n",
       "      <td>53136</td>\n",
       "    </tr>\n",
       "    <tr>\n",
       "      <th>Из жизни</th>\n",
       "      <td>31421380</td>\n",
       "      <td>5998</td>\n",
       "      <td>3</td>\n",
       "      <td>1142.055755</td>\n",
       "      <td>1100.0</td>\n",
       "      <td>27513</td>\n",
       "    </tr>\n",
       "    <tr>\n",
       "      <th>Силовые структуры</th>\n",
       "      <td>15420309</td>\n",
       "      <td>5220</td>\n",
       "      <td>243</td>\n",
       "      <td>1373.991713</td>\n",
       "      <td>1314.0</td>\n",
       "      <td>11223</td>\n",
       "    </tr>\n",
       "    <tr>\n",
       "      <th>Ценности</th>\n",
       "      <td>8550439</td>\n",
       "      <td>4771</td>\n",
       "      <td>277</td>\n",
       "      <td>1127.877457</td>\n",
       "      <td>1075.0</td>\n",
       "      <td>7581</td>\n",
       "    </tr>\n",
       "    <tr>\n",
       "      <th>69-я параллель</th>\n",
       "      <td>1385923</td>\n",
       "      <td>4680</td>\n",
       "      <td>356</td>\n",
       "      <td>1092.999211</td>\n",
       "      <td>1045.0</td>\n",
       "      <td>1268</td>\n",
       "    </tr>\n",
       "    <tr>\n",
       "      <th>Легпром</th>\n",
       "      <td>189348</td>\n",
       "      <td>3963</td>\n",
       "      <td>521</td>\n",
       "      <td>1660.947368</td>\n",
       "      <td>1576.0</td>\n",
       "      <td>114</td>\n",
       "    </tr>\n",
       "    <tr>\n",
       "      <th>Путешествия</th>\n",
       "      <td>7724100</td>\n",
       "      <td>3935</td>\n",
       "      <td>279</td>\n",
       "      <td>1212.574568</td>\n",
       "      <td>1177.5</td>\n",
       "      <td>6370</td>\n",
       "    </tr>\n",
       "    <tr>\n",
       "      <th>Крым</th>\n",
       "      <td>973599</td>\n",
       "      <td>3332</td>\n",
       "      <td>420</td>\n",
       "      <td>1461.860360</td>\n",
       "      <td>1409.5</td>\n",
       "      <td>666</td>\n",
       "    </tr>\n",
       "    <tr>\n",
       "      <th>Культпросвет</th>\n",
       "      <td>429031</td>\n",
       "      <td>2845</td>\n",
       "      <td>472</td>\n",
       "      <td>1261.855882</td>\n",
       "      <td>1152.5</td>\n",
       "      <td>340</td>\n",
       "    </tr>\n",
       "    <tr>\n",
       "      <th>Библиотека</th>\n",
       "      <td>79274</td>\n",
       "      <td>2684</td>\n",
       "      <td>281</td>\n",
       "      <td>1219.600000</td>\n",
       "      <td>1005.0</td>\n",
       "      <td>65</td>\n",
       "    </tr>\n",
       "    <tr>\n",
       "      <th>Оружие</th>\n",
       "      <td>3916</td>\n",
       "      <td>1936</td>\n",
       "      <td>500</td>\n",
       "      <td>1305.333333</td>\n",
       "      <td>1480.0</td>\n",
       "      <td>3</td>\n",
       "    </tr>\n",
       "    <tr>\n",
       "      <th>ЧМ-2014</th>\n",
       "      <td>1668</td>\n",
       "      <td>988</td>\n",
       "      <td>680</td>\n",
       "      <td>834.000000</td>\n",
       "      <td>834.0</td>\n",
       "      <td>2</td>\n",
       "    </tr>\n",
       "    <tr>\n",
       "      <th>Сочи</th>\n",
       "      <td>857</td>\n",
       "      <td>857</td>\n",
       "      <td>857</td>\n",
       "      <td>857.000000</td>\n",
       "      <td>857.0</td>\n",
       "      <td>1</td>\n",
       "    </tr>\n",
       "    <tr>\n",
       "      <th>МедНовости</th>\n",
       "      <td>628</td>\n",
       "      <td>628</td>\n",
       "      <td>628</td>\n",
       "      <td>628.000000</td>\n",
       "      <td>628.0</td>\n",
       "      <td>1</td>\n",
       "    </tr>\n",
       "  </tbody>\n",
       "</table>\n",
       "</div>"
      ],
      "text/plain": [
       "                      length                                         \n",
       "                         sum    max  min         mean  median   count\n",
       "topic                                                                \n",
       "Россия             204284398  55387    3  1317.929847  1242.0  155004\n",
       "Бывший СССР         79379206  20090    3  1545.244423  1433.5   51370\n",
       "Дом                 31845476  14795  181  1465.237692  1372.0   21734\n",
       "Мир                177459011  13520    3  1298.924103  1242.0  136620\n",
       "Интернет и СМИ      61088230  12352    3  1375.210599  1290.0   44421\n",
       "Экономика          109607718   9282    3  1434.224226  1368.0   76423\n",
       "Спорт               64696755   8494   10  1117.503627  1049.0   57894\n",
       "Культура            65684449   7739    3  1227.058640  1154.0   53530\n",
       "Бизнес              12678739   7519  247  1719.151051  1632.0    7375\n",
       "Наука и техника     77423049   7084    3  1457.073340  1393.0   53136\n",
       "Из жизни            31421380   5998    3  1142.055755  1100.0   27513\n",
       "Силовые структуры   15420309   5220  243  1373.991713  1314.0   11223\n",
       "Ценности             8550439   4771  277  1127.877457  1075.0    7581\n",
       "69-я параллель       1385923   4680  356  1092.999211  1045.0    1268\n",
       "Легпром               189348   3963  521  1660.947368  1576.0     114\n",
       "Путешествия          7724100   3935  279  1212.574568  1177.5    6370\n",
       "Крым                  973599   3332  420  1461.860360  1409.5     666\n",
       "Культпросвет          429031   2845  472  1261.855882  1152.5     340\n",
       "Библиотека             79274   2684  281  1219.600000  1005.0      65\n",
       "Оружие                  3916   1936  500  1305.333333  1480.0       3\n",
       "ЧМ-2014                 1668    988  680   834.000000   834.0       2\n",
       "Сочи                     857    857  857   857.000000   857.0       1\n",
       "МедНовости               628    628  628   628.000000   628.0       1"
      ]
     },
     "execution_count": 25,
     "metadata": {},
     "output_type": "execute_result"
    }
   ],
   "source": [
    "df.groupby(['topic']).agg({'length' : [sum, max, min, 'mean', 'median', 'count']}).sort_values(('length', 'max'), ascending=False)"
   ]
  },
  {
   "cell_type": "markdown",
   "metadata": {},
   "source": [
    "# Features extraction"
   ]
  },
  {
   "cell_type": "markdown",
   "metadata": {},
   "source": [
    "## Text preprocessing"
   ]
  },
  {
   "cell_type": "code",
   "execution_count": 26,
   "metadata": {},
   "outputs": [],
   "source": [
    "import nltk\n",
    "import nltk.corpus\n",
    "from nltk.tokenize import word_tokenize\n",
    "from string import punctuation\n",
    "from nltk.corpus import stopwords\n",
    "import pymorphy2"
   ]
  },
  {
   "cell_type": "code",
   "execution_count": 27,
   "metadata": {},
   "outputs": [],
   "source": [
    "punctuation = '—'.join(punctuation)\n",
    "punctuation = '«'.join(punctuation)\n",
    "punctuation = '»'.join(punctuation)\n",
    "punctuation = \"„\".join(punctuation)\n",
    "punctuation = '“'.join(punctuation)\n",
    "morph = pymorphy2.MorphAnalyzer()\n",
    "stopwords = stopwords.words('russian') + [a for a in punctuation]"
   ]
  },
  {
   "cell_type": "code",
   "execution_count": 28,
   "metadata": {},
   "outputs": [],
   "source": [
    "def tokenizer(text):\n",
    "    tokens_clean = []\n",
    "    tokens = word_tokenize(text = text)\n",
    "    for token in tokens:\n",
    "        if token not in stopwords:\n",
    "            form = morph.parse(token)[0].normal_form\n",
    "            tokens_clean.append(form)\n",
    "    return tokens_clean"
   ]
  },
  {
   "cell_type": "code",
   "execution_count": null,
   "metadata": {},
   "outputs": [],
   "source": [
    "%%time\n",
    "df['clean_text'] = df['text'].apply(tokenizer)\n",
    "df"
   ]
  },
  {
   "cell_type": "markdown",
   "metadata": {},
   "source": [
    "\n",
    "The text is not clean enough. It will be necessary to clear the found characters additionally"
   ]
  },
  {
   "cell_type": "markdown",
   "metadata": {},
   "source": [
    "Caught a memory error several times. Perhaps list comprehensions would make the task a little easier. I have succesfully tested algoritm on a smaller random samples from the dataset."
   ]
  },
  {
   "cell_type": "code",
   "execution_count": null,
   "metadata": {},
   "outputs": [],
   "source": [
    "df.head()"
   ]
  },
  {
   "cell_type": "markdown",
   "metadata": {},
   "source": [
    "## Topics extarction"
   ]
  },
  {
   "cell_type": "code",
   "execution_count": null,
   "metadata": {},
   "outputs": [],
   "source": [
    "all_tokens_list = []\n",
    "for i in df['clean_text']:\n",
    "    all_tokens_list.append(i)"
   ]
  },
  {
   "cell_type": "code",
   "execution_count": null,
   "metadata": {},
   "outputs": [],
   "source": [
    "import gensim\n",
    "from gensim import corpora\n",
    "from pprint import pprint\n",
    "from gensim import models\n",
    "from gensim.models import LdaModel, LdaMulticore\n",
    "from gensim.models import LsiModel\n",
    "import pickle\n",
    "from pprint import pprint"
   ]
  },
  {
   "cell_type": "markdown",
   "metadata": {},
   "source": [
    "### LDA model"
   ]
  },
  {
   "cell_type": "code",
   "execution_count": null,
   "metadata": {},
   "outputs": [],
   "source": [
    "mydict = corpora.Dictionary(all_tokens_list)\n",
    "mycorpus = [mydict.doc2bow(doc) for doc in all_tokens_list]\n",
    "import pickle\n",
    "pickle.dump(mycorpus, open('corpus1.pkl', 'wb'))\n",
    "mydict.save('dictionary1.gensim')\n",
    "ldamodel = gensim.models.ldamodel.LdaModel(corpus=mycorpus,\n",
    "                                               id2word=mydict,\n",
    "                                               num_topics=10,\n",
    "                                               random_state=100,\n",
    "                                               update_every=1,\n",
    "                                               chunksize=100,\n",
    "                                               passes=10,\n",
    "                                               alpha='auto',\n",
    "                                               per_word_topics=True)\n",
    "ldamodel.save('lda_model_10.gensim')\n",
    "pprint(ldamodel.print_topics())"
   ]
  },
  {
   "cell_type": "markdown",
   "metadata": {},
   "source": [
    "#### topics visualization"
   ]
  },
  {
   "cell_type": "code",
   "execution_count": null,
   "metadata": {},
   "outputs": [],
   "source": []
  },
  {
   "cell_type": "markdown",
   "metadata": {},
   "source": [
    "### LSI model"
   ]
  },
  {
   "cell_type": "code",
   "execution_count": null,
   "metadata": {},
   "outputs": [],
   "source": [
    "dictionary = corpora.Dictionary(all_tokens_list)\n",
    "corpus = [dictionary.doc2bow(text) for text in all_tokens_list]\n",
    "tfidf = models.TfidfModel(corpus, smartirs = 'ntc')\n",
    "tfidf_model = tfidf[corpus]\n",
    "lsi_model = LsiModel(corpus = tfidf_model, id2word = dictionary, num_topics = 7, decay = 0.5)\n",
    "pprint(lsi_model.print_topics(-1, 10))"
   ]
  },
  {
   "cell_type": "code",
   "execution_count": null,
   "metadata": {},
   "outputs": [],
   "source": []
  }
 ],
 "metadata": {
  "kernelspec": {
   "display_name": "Python 3",
   "language": "python",
   "name": "python3"
  },
  "language_info": {
   "codemirror_mode": {
    "name": "ipython",
    "version": 3
   },
   "file_extension": ".py",
   "mimetype": "text/x-python",
   "name": "python",
   "nbconvert_exporter": "python",
   "pygments_lexer": "ipython3",
   "version": "3.7.6"
  }
 },
 "nbformat": 4,
 "nbformat_minor": 4
}
