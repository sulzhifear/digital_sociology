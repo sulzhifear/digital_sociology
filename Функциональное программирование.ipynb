{
 "cells": [
  {
   "cell_type": "markdown",
   "metadata": {},
   "source": [
    "# Функции "
   ]
  },
  {
   "cell_type": "code",
   "execution_count": 4,
   "metadata": {},
   "outputs": [
    {
     "name": "stdout",
     "output_type": "stream",
     "text": [
      "34\n"
     ]
    }
   ],
   "source": [
    "from datetime import datetime\n",
    "def get_seconds():\n",
    "    \"\"\"здесь идет описание того, что выполняет функция\"\"\"\n",
    "    return datetime.now().second\n",
    "\n",
    "print(get_seconds())"
   ]
  },
  {
   "cell_type": "markdown",
   "metadata": {},
   "source": [
    "### получить док строку о том, что деалет функция"
   ]
  },
  {
   "cell_type": "code",
   "execution_count": 6,
   "metadata": {},
   "outputs": [
    {
     "data": {
      "text/plain": [
       "'здесь идет описание того, что выполняет функция'"
      ]
     },
     "execution_count": 6,
     "metadata": {},
     "output_type": "execute_result"
    }
   ],
   "source": [
    "get_seconds.__doc__"
   ]
  },
  {
   "cell_type": "markdown",
   "metadata": {},
   "source": [
    "### Аннотация типов в функциях"
   ]
  },
  {
   "cell_type": "code",
   "execution_count": 8,
   "metadata": {},
   "outputs": [
    {
     "name": "stdout",
     "output_type": "stream",
     "text": [
      "21\n",
      "still works\n"
     ]
    }
   ],
   "source": [
    "def add (x: int, y: int) -> int:\n",
    "    return(x + y)\n",
    "print(add(10, 11))\n",
    "print('still', 'works')"
   ]
  },
  {
   "cell_type": "markdown",
   "metadata": {},
   "source": [
    "### Именованные аргументы"
   ]
  },
  {
   "cell_type": "code",
   "execution_count": 13,
   "metadata": {},
   "outputs": [
    {
     "name": "stdout",
     "output_type": "stream",
     "text": [
      "Hello, Kitty\n",
      "Hello, Kitty\n"
     ]
    }
   ],
   "source": [
    "def say(name, greet):\n",
    "    print('{}, {}'.format(name, greet))\n",
    "say('Hello', 'Kitty')\n",
    "say(name = 'Hello', greet = 'Kitty')"
   ]
  },
  {
   "cell_type": "markdown",
   "metadata": {},
   "source": [
    "## Область видимости"
   ]
  },
  {
   "cell_type": "markdown",
   "metadata": {},
   "source": [
    "### Переменные, объявленные вне области видимости функции, нельзя изменять"
   ]
  },
  {
   "cell_type": "code",
   "execution_count": 14,
   "metadata": {},
   "outputs": [
    {
     "ename": "UnboundLocalError",
     "evalue": "local variable 'result' referenced before assignment",
     "output_type": "error",
     "traceback": [
      "\u001b[1;31m---------------------------------------------------------------------------\u001b[0m",
      "\u001b[1;31mUnboundLocalError\u001b[0m                         Traceback (most recent call last)",
      "\u001b[1;32m<ipython-input-14-66906d3d13b4>\u001b[0m in \u001b[0;36m<module>\u001b[1;34m\u001b[0m\n\u001b[0;32m      4\u001b[0m     \u001b[0mresult\u001b[0m \u001b[1;33m+=\u001b[0m\u001b[1;36m1\u001b[0m\u001b[1;33m\u001b[0m\u001b[1;33m\u001b[0m\u001b[0m\n\u001b[0;32m      5\u001b[0m     \u001b[1;32mreturn\u001b[0m \u001b[0mresult\u001b[0m\u001b[1;33m\u001b[0m\u001b[1;33m\u001b[0m\u001b[0m\n\u001b[1;32m----> 6\u001b[1;33m \u001b[0mprint\u001b[0m\u001b[1;33m(\u001b[0m\u001b[0mincrement\u001b[0m\u001b[1;33m(\u001b[0m\u001b[1;33m)\u001b[0m\u001b[1;33m)\u001b[0m\u001b[1;33m\u001b[0m\u001b[1;33m\u001b[0m\u001b[0m\n\u001b[0m",
      "\u001b[1;32m<ipython-input-14-66906d3d13b4>\u001b[0m in \u001b[0;36mincrement\u001b[1;34m()\u001b[0m\n\u001b[0;32m      2\u001b[0m \u001b[1;33m\u001b[0m\u001b[0m\n\u001b[0;32m      3\u001b[0m \u001b[1;32mdef\u001b[0m \u001b[0mincrement\u001b[0m\u001b[1;33m(\u001b[0m\u001b[1;33m)\u001b[0m\u001b[1;33m:\u001b[0m\u001b[1;33m\u001b[0m\u001b[1;33m\u001b[0m\u001b[0m\n\u001b[1;32m----> 4\u001b[1;33m     \u001b[0mresult\u001b[0m \u001b[1;33m+=\u001b[0m\u001b[1;36m1\u001b[0m\u001b[1;33m\u001b[0m\u001b[1;33m\u001b[0m\u001b[0m\n\u001b[0m\u001b[0;32m      5\u001b[0m     \u001b[1;32mreturn\u001b[0m \u001b[0mresult\u001b[0m\u001b[1;33m\u001b[0m\u001b[1;33m\u001b[0m\u001b[0m\n\u001b[0;32m      6\u001b[0m \u001b[0mprint\u001b[0m\u001b[1;33m(\u001b[0m\u001b[0mincrement\u001b[0m\u001b[1;33m(\u001b[0m\u001b[1;33m)\u001b[0m\u001b[1;33m)\u001b[0m\u001b[1;33m\u001b[0m\u001b[1;33m\u001b[0m\u001b[0m\n",
      "\u001b[1;31mUnboundLocalError\u001b[0m: local variable 'result' referenced before assignment"
     ]
    }
   ],
   "source": [
    "result = 0\n",
    "\n",
    "def increment():\n",
    "    result +=1\n",
    "    return result\n",
    "\n",
    "print(increment())"
   ]
  },
  {
   "cell_type": "markdown",
   "metadata": {},
   "source": [
    "## Звездочки\n",
    "\n",
    "Мы можем определить функцию printer, которая принимает разное количество аргументов. Может быть один, два, три, четыре, сотня аргументов. В данном случае все аргументы записываются в tuple args. И мы видим, что это действительно tuple, если мы выведем тип."
   ]
  },
  {
   "cell_type": "code",
   "execution_count": 15,
   "metadata": {},
   "outputs": [
    {
     "name": "stdout",
     "output_type": "stream",
     "text": [
      "<class 'tuple'>\n",
      "1\n",
      "2\n",
      "3\n",
      "4\n",
      "5\n",
      "6\n"
     ]
    }
   ],
   "source": [
    "def printer(*args):\n",
    "    print(type(args))\n",
    "    for a in args:\n",
    "        print(a)\n",
    "\n",
    "printer(1,2,3,4,5,6)"
   ]
  },
  {
   "cell_type": "markdown",
   "metadata": {},
   "source": [
    "#### Можно разворачивать список в аргументы\n",
    "\n",
    "Точно так же можно разворачивать наш список в аргументах. Мы можем определить наш список с Джоном, Биллом и Эми и передать наш список как аргументы в нашу функцию. Таким образом, первым аргументом станет Джон, вторым — Билл, и третьим — Эми."
   ]
  },
  {
   "cell_type": "code",
   "execution_count": 17,
   "metadata": {},
   "outputs": [
    {
     "name": "stdout",
     "output_type": "stream",
     "text": [
      "<class 'tuple'>\n",
      "John\n",
      "Bill\n",
      "Amy\n"
     ]
    }
   ],
   "source": [
    "named_list = ['John', 'Bill', 'Amy']\n",
    "printer(*named_list)"
   ]
  },
  {
   "cell_type": "markdown",
   "metadata": {},
   "source": [
    "#### Или в именованные аргументы\n",
    "\n",
    "Точно так же это работает в случае со словарями, в данном случае мы можем определить функцию printer, которая принимает разное количество именованных аргументов. Собственно, все записывается в kwargs, и таким образом kwargs у нас останется dict'ом"
   ]
  },
  {
   "cell_type": "code",
   "execution_count": 20,
   "metadata": {},
   "outputs": [
    {
     "name": "stdout",
     "output_type": "stream",
     "text": [
      "<class 'dict'>\n",
      "k : 10\n",
      "v : 11\n"
     ]
    }
   ],
   "source": [
    "def printer_kw(**kwargs):\n",
    "    print(type(kwargs))\n",
    "    for key, value in kwargs.items():\n",
    "        print('{} : {}'.format(key, value))\n",
    "        \n",
    "printer_kw(k = 10, v = 11)"
   ]
  },
  {
   "cell_type": "markdown",
   "metadata": {},
   "source": [
    "Точно так же мы можем разыменовывать, разворачивать эти словари в обратную сторону. Таким образом, если у нас есть словарь, мы можем передавать значения из этого словаря как аргументы, именованные, в нашу функцию. "
   ]
  },
  {
   "cell_type": "code",
   "execution_count": 24,
   "metadata": {},
   "outputs": [
    {
     "name": "stdout",
     "output_type": "stream",
     "text": [
      "<class 'dict'>\n",
      "id : 111\n",
      "params : 22222\n"
     ]
    }
   ],
   "source": [
    "pd = {'id': 111,\n",
    "      'params' : 22222}\n",
    "printer_kw(**pd)"
   ]
  },
  {
   "cell_type": "markdown",
   "metadata": {},
   "source": [
    "# функциональное программирование\n",
    "\n",
    "Функции можно передавать в другие функции, их можно возвращать из функций, их можно создавать на лету, то есть это объекты первого класса"
   ]
  },
  {
   "cell_type": "code",
   "execution_count": 4,
   "metadata": {},
   "outputs": [
    {
     "name": "stdout",
     "output_type": "stream",
     "text": [
      "I'm Maria of Montana\n"
     ]
    }
   ],
   "source": [
    "def caller(func, params): # функция caller, которая принимает на вход другую функцию printer и список параметров. \n",
    "    return func(*params) #На выходе - вызов функции с парметрами со звездочкой\n",
    "\n",
    "def printer(name, origin):\n",
    "    print('I\\'m {} of {}'.format(name, origin))\n",
    "\n",
    "caller(printer, ['Maria', 'Montana']) #ф функцию коллепр попадает функкция принтер, которая выводит строчку с парметрами"
   ]
  },
  {
   "cell_type": "markdown",
   "metadata": {},
   "source": [
    "#### Функции можно не только передавать, их еще можно создавать внутри других функций."
   ]
  },
  {
   "cell_type": "code",
   "execution_count": 6,
   "metadata": {},
   "outputs": [
    {
     "data": {
      "text/plain": [
       "110"
      ]
     },
     "execution_count": 6,
     "metadata": {},
     "output_type": "execute_result"
    }
   ],
   "source": [
    "def get_mult():\n",
    "    def inner(a, b):\n",
    "        return a*b\n",
    "    return inner\n",
    "\n",
    "m = get_mult()\n",
    "m(10, 11)"
   ]
  },
  {
   "cell_type": "markdown",
   "metadata": {},
   "source": [
    "#### Замыкание функции"
   ]
  },
  {
   "cell_type": "code",
   "execution_count": 8,
   "metadata": {},
   "outputs": [
    {
     "data": {
      "text/plain": [
       "20"
      ]
     },
     "execution_count": 8,
     "metadata": {},
     "output_type": "execute_result"
    }
   ],
   "source": [
    "def get_multi(number):\n",
    "    def inner(a):\n",
    "        return a*number\n",
    "    return inner\n",
    "\n",
    "multiplyer_by_2 = get_multi(2)\n",
    "multiplyer_by_2(10)"
   ]
  },
  {
   "cell_type": "markdown",
   "metadata": {},
   "source": [
    "## Cтандартные функции, которые позволяют работать в  функциональном стиле "
   ]
  },
  {
   "cell_type": "markdown",
   "metadata": {},
   "source": [
    "#### Функция map применяет функцию к каждому элементу последовательности и возвращает итератор с результатами.\n",
    "\n",
    "map(function_object, iterable1, iterable2,...)"
   ]
  },
  {
   "cell_type": "code",
   "execution_count": 10,
   "metadata": {},
   "outputs": [
    {
     "data": {
      "text/plain": [
       "[0, 1, 4, 9, 16]"
      ]
     },
     "execution_count": 10,
     "metadata": {},
     "output_type": "execute_result"
    }
   ],
   "source": [
    "def sqare(a):               \n",
    "    return a**2\n",
    "\n",
    "list(map(sqare, range(5))) "
   ]
  },
  {
   "cell_type": "markdown",
   "metadata": {},
   "source": [
    "#### функция filter выводит только те объекты, для которыъ функция возвращает True\n",
    "\n",
    "filter(function_object, iterable)"
   ]
  },
  {
   "cell_type": "code",
   "execution_count": 13,
   "metadata": {},
   "outputs": [
    {
     "name": "stdout",
     "output_type": "stream",
     "text": [
      "[1, 2]\n",
      "[False, True, True, True, True]\n"
     ]
    }
   ],
   "source": [
    "def is_pozitive(a):\n",
    "    return a > 0\n",
    "print(list(filter(is_pozitive, range(-2, 3)))) #Filter\n",
    "print(list(map(is_pozitive, range(5)))) # Map"
   ]
  },
  {
   "cell_type": "markdown",
   "metadata": {},
   "source": [
    "### Анонимные функции или Lambda функции\n",
    "используются локально, один раз в конкретном месте\n",
    "\n",
    "ее не надо объявлять заранее, она создается in-place\n",
    "\n",
    "#### lambda arguments : expression"
   ]
  },
  {
   "cell_type": "code",
   "execution_count": 17,
   "metadata": {},
   "outputs": [
    {
     "data": {
      "text/plain": [
       "[0, 1, 4, 9, 16]"
      ]
     },
     "execution_count": 17,
     "metadata": {},
     "output_type": "execute_result"
    }
   ],
   "source": [
    "list(map(lambda x: x**2, range(5)))"
   ]
  },
  {
   "cell_type": "code",
   "execution_count": 19,
   "metadata": {},
   "outputs": [
    {
     "data": {
      "text/plain": [
       "[1, 2, 3, 4]"
      ]
     },
     "execution_count": 19,
     "metadata": {},
     "output_type": "execute_result"
    }
   ],
   "source": [
    "list(filter(lambda x: x>0, range(-3, 5)))"
   ]
  },
  {
   "cell_type": "markdown",
   "metadata": {},
   "source": [
    "### два варианта функции, которая превращает список чисел в список строк"
   ]
  },
  {
   "cell_type": "markdown",
   "metadata": {},
   "source": [
    "#### локальное решение через lambda"
   ]
  },
  {
   "cell_type": "code",
   "execution_count": 21,
   "metadata": {},
   "outputs": [
    {
     "data": {
      "text/plain": [
       "['0', '1', '2', '3', '4']"
      ]
     },
     "execution_count": 21,
     "metadata": {},
     "output_type": "execute_result"
    }
   ],
   "source": [
    "list(map(lambda x: str(x), range(5)))"
   ]
  },
  {
   "cell_type": "markdown",
   "metadata": {},
   "source": [
    "#### многоразовое универсальное решение через def\n",
    "\n",
    "функция принимает range чисел и возвращает map(операция str, список range)"
   ]
  },
  {
   "cell_type": "code",
   "execution_count": 27,
   "metadata": {},
   "outputs": [
    {
     "data": {
      "text/plain": [
       "['0', '1', '2', '3', '4']"
      ]
     },
     "execution_count": 27,
     "metadata": {},
     "output_type": "execute_result"
    }
   ],
   "source": [
    "def str_object(digits):\n",
    "    return list(map(str, digits))\n",
    "\n",
    "str_object(range(5))"
   ]
  },
  {
   "cell_type": "markdown",
   "metadata": {},
   "source": [
    "### Модуль functools для использования функциональных особенностей питона"
   ]
  },
  {
   "cell_type": "markdown",
   "metadata": {},
   "source": [
    "#### функция reduce(функция, параметры). Применяет функцию к каждому параметру из списка, сохраняя в памяти предыдущий"
   ]
  },
  {
   "cell_type": "code",
   "execution_count": 28,
   "metadata": {},
   "outputs": [
    {
     "data": {
      "text/plain": [
       "120"
      ]
     },
     "execution_count": 28,
     "metadata": {},
     "output_type": "execute_result"
    }
   ],
   "source": [
    "from functools import reduce\n",
    "\n",
    "def multiply(a, d):\n",
    "    return a * d\n",
    "reduce(multiply, [1, 2, 3, 4, 5])"
   ]
  },
  {
   "cell_type": "code",
   "execution_count": 36,
   "metadata": {},
   "outputs": [
    {
     "data": {
      "text/plain": [
       "120"
      ]
     },
     "execution_count": 36,
     "metadata": {},
     "output_type": "execute_result"
    }
   ],
   "source": [
    "reduce(lambda a, d: a * d, [1,2,3,4,5])"
   ]
  },
  {
   "cell_type": "markdown",
   "metadata": {},
   "source": [
    "#### функция partial позволяет пререопределять парметры функции"
   ]
  },
  {
   "cell_type": "code",
   "execution_count": 43,
   "metadata": {},
   "outputs": [
    {
     "name": "stdout",
     "output_type": "stream",
     "text": [
      "Hi, Sis!\n",
      "Hello, Bros!\n"
     ]
    }
   ],
   "source": [
    "from functools import partial\n",
    "\n",
    "def greeter(name, greet):\n",
    "    return ('{}, {}!'.format(greet, name))\n",
    "    \n",
    "hier = partial(greeter, greet = 'Hi')\n",
    "helloer = partial(greeter, greet = 'Hello')\n",
    "\n",
    "print(hier('Sis'))\n",
    "print(helloer('Bros'))"
   ]
  },
  {
   "cell_type": "markdown",
   "metadata": {},
   "source": [
    "## Списочные выражения"
   ]
  },
  {
   "cell_type": "markdown",
   "metadata": {},
   "source": [
    "#### list_variable = [x операция for x in iterable, условие]"
   ]
  },
  {
   "cell_type": "code",
   "execution_count": 49,
   "metadata": {},
   "outputs": [
    {
     "name": "stdout",
     "output_type": "stream",
     "text": [
      "[1, 9, 25, 49, 81]\n"
     ]
    }
   ],
   "source": [
    "square_list = [n ** 2 for n in range(10) if n % 2 == 1]\n",
    "print(square_list)"
   ]
  },
  {
   "cell_type": "markdown",
   "metadata": {},
   "source": [
    "#### аналогично мы может создать словарь"
   ]
  },
  {
   "cell_type": "code",
   "execution_count": 54,
   "metadata": {},
   "outputs": [
    {
     "name": "stdout",
     "output_type": "stream",
     "text": [
      "{1: 1, 3: 9, 5: 25, 7: 49, 9: 81}\n"
     ]
    }
   ],
   "source": [
    "square_map = {n : n ** 2 for n in range(10) if n % 2 == 1}\n",
    "print(square_map)"
   ]
  },
  {
   "cell_type": "markdown",
   "metadata": {},
   "source": [
    "#### или множество"
   ]
  },
  {
   "cell_type": "code",
   "execution_count": 56,
   "metadata": {},
   "outputs": [
    {
     "name": "stdout",
     "output_type": "stream",
     "text": [
      "{0, 1, 2, 3, 4, 5, 6, 7, 8, 9}\n"
     ]
    }
   ],
   "source": [
    "rem_set = {n % 10 for n in range(100)}\n",
    "print(rem_set)"
   ]
  },
  {
   "cell_type": "markdown",
   "metadata": {},
   "source": [
    "#### функция zip которая склеивает два списка"
   ]
  },
  {
   "cell_type": "code",
   "execution_count": 58,
   "metadata": {},
   "outputs": [
    {
     "name": "stdout",
     "output_type": "stream",
     "text": [
      "[(0, 0), (1, 1), (2, 4), (3, 9), (4, 16), (5, 25), (6, 36), (7, 49), (8, 64), (9, 81)]\n"
     ]
    }
   ],
   "source": [
    "numbers_list = range(10)\n",
    "square_list = (x ** 2 for x in numbers_list)\n",
    "all_list = (list(zip(numbers_list, square_list)))\n",
    "print(all_list)"
   ]
  },
  {
   "cell_type": "markdown",
   "metadata": {},
   "source": [
    "# ДЕКОРАТОРЫ"
   ]
  },
  {
   "cell_type": "markdown",
   "metadata": {},
   "source": [
    "декоратор — это функция, которая принимает одну функцию и возвращает другую функцию."
   ]
  },
  {
   "cell_type": "markdown",
   "metadata": {},
   "source": [
    "### декторатор, который записывает в лог результат декорируемой функции"
   ]
  },
  {
   "cell_type": "code",
   "execution_count": 65,
   "metadata": {},
   "outputs": [
    {
     "data": {
      "text/plain": [
       "15"
      ]
     },
     "execution_count": 65,
     "metadata": {},
     "output_type": "execute_result"
    }
   ],
   "source": [
    "#пишем декоратор\n",
    "# мы хотитм, чтобы результат выполнения сумматора записывался в лог файл \n",
    "#мы подменяем сумматор функцией wrapped, которая будет выполняться\n",
    "\n",
    "def logger(func): #создаем декоратор logger\n",
    "    def wrapped(*args, **kwargs): #внутри декоратора logger меняем функцию сумматор функцию wrapped? принимающую на вход любые аргументы\n",
    "        result = func(*args, **kwargs) #внутри функции wrapped мы создаем переменную result, в которую попадает декорируемая функция\n",
    "        with open('log.txt', 'w') as f: #записываем result в файл\n",
    "            f.write(str(result))\n",
    "        \n",
    "        return result #возвращаем результат в функцию wrapped\n",
    "    \n",
    "    return wrapped # возращаем функцию wrapped в декоратор\n",
    "\n",
    "@logger #применяем декоратор логгер к функции summator\n",
    "def summator(num_list): #создаем функцию, которая возвращает сумму чисел списка\n",
    "    return sum(num_list)\n",
    "\n",
    "\n",
    "summator([1,2,3,4,5])"
   ]
  },
  {
   "cell_type": "markdown",
   "metadata": {},
   "source": [
    "### декторатор c параметром, который записывает лог в указанный файл"
   ]
  },
  {
   "cell_type": "code",
   "execution_count": 67,
   "metadata": {},
   "outputs": [
    {
     "data": {
      "text/plain": [
       "15"
      ]
     },
     "execution_count": 67,
     "metadata": {},
     "output_type": "execute_result"
    }
   ],
   "source": [
    "def logger(filename): #на вход декоратора имя файла\n",
    "    def decorator(func): #дальше функция декоратор, принимающая другую функцию\n",
    "        def wrapped(*args, **kwargs): #и возвращающая другую функцию\n",
    "            result = func(*args, **kwargs) \n",
    "            with open(filename, 'w') as f: #записываем result в файл\n",
    "                f.write(str(result))\n",
    "            return result\n",
    "        return wrapped\n",
    "    return decorator\n",
    "\n",
    "\n",
    "\n",
    "@logger(\"logger.txt\") #применяем декоратор логгер к функции summator\n",
    "def summator(num_list): #создаем функцию, которая возвращает сумму чисел списка\n",
    "    return sum(num_list)\n",
    "\n",
    "summator([1,2,3,4,5])"
   ]
  },
  {
   "cell_type": "markdown",
   "metadata": {},
   "source": [
    "### можно создавать цепочки из нескольких декораторов "
   ]
  },
  {
   "cell_type": "code",
   "execution_count": 81,
   "metadata": {},
   "outputs": [],
   "source": [
    "def first_decorator(func):\n",
    "    def wrapped(*args):\n",
    "        result = func(*args)\n",
    "        print(result * 4)\n",
    "        return func()\n",
    "    return wrapped\n",
    "        \n",
    "\n",
    "def second_decorator(func):\n",
    "    def wrapped(*args):\n",
    "        result = func(*args)\n",
    "        print(result + result)\n",
    "        return func()\n",
    "    return wrapped\n",
    "\n"
   ]
  },
  {
   "cell_type": "code",
   "execution_count": 82,
   "metadata": {},
   "outputs": [
    {
     "name": "stdout",
     "output_type": "stream",
     "text": [
      "Оригинальная функцияОригинальная функция\n",
      "Оригинальная функцияОригинальная функцияОригинальная функцияОригинальная функция\n",
      "Оригинальная функцияОригинальная функция\n"
     ]
    },
    {
     "data": {
      "text/plain": [
       "'Оригинальная функция'"
      ]
     },
     "execution_count": 82,
     "metadata": {},
     "output_type": "execute_result"
    }
   ],
   "source": [
    "@first_decorator\n",
    "@second_decorator\n",
    "def decorated():\n",
    "    phrase = \"Оригинальная функция\"\n",
    "    return phrase\n",
    "        \n",
    "decorated()"
   ]
  },
  {
   "cell_type": "markdown",
   "metadata": {},
   "source": [
    "# Генераторы"
   ]
  },
  {
   "cell_type": "markdown",
   "metadata": {},
   "source": [
    "генераторы - функции в которых есть оператор yield, который возвращает значение но прерывает действие функции только на время"
   ]
  },
  {
   "cell_type": "code",
   "execution_count": 3,
   "metadata": {},
   "outputs": [
    {
     "name": "stdout",
     "output_type": "stream",
     "text": [
      "0\n",
      "2\n",
      "4\n",
      "6\n",
      "8\n"
     ]
    }
   ],
   "source": [
    "def even_range(start, end):\n",
    "    current = start\n",
    "    while current < end:\n",
    "        yield current\n",
    "        current += 2\n",
    "        \n",
    "for number in even_range(0, 10):\n",
    "    print(number)"
   ]
  },
  {
   "cell_type": "markdown",
   "metadata": {},
   "source": [
    "#### пример с числами фиббоначи"
   ]
  },
  {
   "cell_type": "code",
   "execution_count": 8,
   "metadata": {},
   "outputs": [
    {
     "name": "stdout",
     "output_type": "stream",
     "text": [
      "1\n",
      "1\n",
      "2\n",
      "3\n",
      "5\n",
      "8\n",
      "13\n",
      "21\n",
      "34\n",
      "55\n"
     ]
    }
   ],
   "source": [
    "def fibbonaci(n):\n",
    "    a = b = 1\n",
    "    for _ in range(n):\n",
    "        yield a\n",
    "        a, b = b, a + b\n",
    "\n",
    "for i in fibbonaci(10):\n",
    "    print(i)"
   ]
  },
  {
   "cell_type": "markdown",
   "metadata": {},
   "source": [
    "Мы можем не только возвращаться к моменту, когда у нас генератор сделал yield, и продолжать исполнение с этого момента с каким-то контекстом, мы можем еще и передавать туда значения"
   ]
  },
  {
   "cell_type": "code",
   "execution_count": 14,
   "metadata": {},
   "outputs": [],
   "source": [
    "def accum():\n",
    "    total = 0\n",
    "    while True:\n",
    "        value = yield total\n",
    "        print('Got : {}'.format(value))\n",
    "        \n",
    "        if not value: break\n",
    "        total +=value\n",
    "    \n",
    "generator = accum()"
   ]
  },
  {
   "cell_type": "code",
   "execution_count": 15,
   "metadata": {},
   "outputs": [
    {
     "data": {
      "text/plain": [
       "0"
      ]
     },
     "execution_count": 15,
     "metadata": {},
     "output_type": "execute_result"
    }
   ],
   "source": [
    "next(generator)"
   ]
  },
  {
   "cell_type": "code",
   "execution_count": 16,
   "metadata": {},
   "outputs": [
    {
     "name": "stdout",
     "output_type": "stream",
     "text": [
      "Got : 1\n",
      "Accumulated: 1\n"
     ]
    }
   ],
   "source": [
    "print('Accumulated: {}'.format(generator.send(1)))"
   ]
  },
  {
   "cell_type": "code",
   "execution_count": null,
   "metadata": {},
   "outputs": [],
   "source": []
  }
 ],
 "metadata": {
  "kernelspec": {
   "display_name": "Python 3",
   "language": "python",
   "name": "python3"
  },
  "language_info": {
   "codemirror_mode": {
    "name": "ipython",
    "version": 3
   },
   "file_extension": ".py",
   "mimetype": "text/x-python",
   "name": "python",
   "nbconvert_exporter": "python",
   "pygments_lexer": "ipython3",
   "version": "3.7.6"
  }
 },
 "nbformat": 4,
 "nbformat_minor": 4
}
